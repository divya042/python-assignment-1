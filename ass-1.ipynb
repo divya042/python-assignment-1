{
 "cells": [
  {
   "cell_type": "code",
   "execution_count": null,
   "id": "b0956168-a136-408b-aadd-9c470f879148",
   "metadata": {},
   "outputs": [],
   "source": [
    "#1.guido van rossum\n",
    "#2.object oriented,methodologies\n",
    "#3.yes\n",
    "#4.-ph\n",
    "#5.yes both\n",
    "#6.if(condition):\n",
    "      #statement\n",
    "      #statement\n",
    "    else:\n",
    "      #statement\n",
    "      #statement\n",
    "#7.start in \"#\" single line comments\n",
    "   ex- #this is first assignment\n",
    "#8.sys.version\n",
    "#9.lambda\n",
    "#10.pip is peakage manegar\n",
    "#11.chr()\n",
    "    bool()\n",
    "    complex()\n",
    "    dict()\n",
    "#12.79\n",
    "#13.easy integration\n",
    "    object oriented programming\n",
    "    work with less code\n",
    "    productivity\n",
    "    safety and security\n",
    "#14.private heap space\n",
    "#15.select properties once in the properties neanu click on the advance system seting option in the next windows select the advance environment\n",
    "#16.indentation is very important concept of python because without inditation the python code will be error \n"
   ]
  }
 ],
 "metadata": {
  "kernelspec": {
   "display_name": "Python 3 (ipykernel)",
   "language": "python",
   "name": "python3"
  },
  "language_info": {
   "codemirror_mode": {
    "name": "ipython",
    "version": 3
   },
   "file_extension": ".py",
   "mimetype": "text/x-python",
   "name": "python",
   "nbconvert_exporter": "python",
   "pygments_lexer": "ipython3",
   "version": "3.10.8"
  }
 },
 "nbformat": 4,
 "nbformat_minor": 5
}
